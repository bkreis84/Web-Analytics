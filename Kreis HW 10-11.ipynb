{
 "cells": [
  {
   "cell_type": "markdown",
   "metadata": {},
   "source": [
    "## Brian Kreis - Web Analytics - Homework 10/11\n",
    "\n",
    "### References:\n",
    "[Cambridge Coding](https://blog.cambridgecoding.com/2016/01/25/implementing-your-own-spam-filter/)  \n",
    "[NLTK](http://www.nltk.org/book/ch06.html)"
   ]
  },
  {
   "cell_type": "code",
   "execution_count": 1,
   "metadata": {
    "collapsed": false
   },
   "outputs": [],
   "source": [
    "import nltk\n",
    "import pandas as pd\n",
    "import numpy as np\n",
    "from nltk import word_tokenize\n",
    "from nltk import NaiveBayesClassifier, classify\n",
    "from nltk.stem import WordNetLemmatizer\n",
    "from nltk.corpus import stopwords\n",
    "\n",
    "wnl = WordNetLemmatizer()"
   ]
  },
  {
   "cell_type": "markdown",
   "metadata": {},
   "source": [
    "#### A dataset of SMS messages that has been labeled as spam or ham was available on a Github users account. "
   ]
  },
  {
   "cell_type": "code",
   "execution_count": 2,
   "metadata": {
    "collapsed": false
   },
   "outputs": [],
   "source": [
    "link = \"https://raw.githubusercontent.com/rahulraina7/Naive-Bayes-Python/master/dataset\"\n",
    "df = pd.read_csv(link, sep='\\t', header=None, names=[\"type\", \"text\"])"
   ]
  },
  {
   "cell_type": "code",
   "execution_count": 3,
   "metadata": {
    "collapsed": false
   },
   "outputs": [
    {
     "name": "stdout",
     "output_type": "stream",
     "text": [
      "5572\n"
     ]
    }
   ],
   "source": [
    "#There are 5,572 text messages in the data set\n",
    "\n",
    "print len(df)"
   ]
  },
  {
   "cell_type": "code",
   "execution_count": 4,
   "metadata": {
    "collapsed": false
   },
   "outputs": [],
   "source": [
    "#shuffle the data set\n",
    "df = df.iloc[np.random.permutation(len(df))]\n",
    "    "
   ]
  },
  {
   "cell_type": "code",
   "execution_count": 5,
   "metadata": {
    "collapsed": false
   },
   "outputs": [
    {
     "name": "stdout",
     "output_type": "stream",
     "text": [
      "5572\n"
     ]
    }
   ],
   "source": [
    "# convert to tuples\n",
    "df2 = df[['text', 'type']]\n",
    "tuple_SMS = [tuple(x) for x in df2.values]\n",
    "print(len(tuple_SMS))\n",
    "    "
   ]
  },
  {
   "cell_type": "code",
   "execution_count": 6,
   "metadata": {
    "collapsed": false
   },
   "outputs": [
    {
     "data": {
      "text/plain": [
       "[('Ha ha cool cool chikku chikku:-):-DB-)', 'ham'),\n",
       " ('Wishing you a beautiful day. Each moment revealing even more things to keep you smiling. Do enjoy it.',\n",
       "  'ham'),\n",
       " (\"I'm in a meeting, call me later at\", 'ham'),\n",
       " ('Pls speak with me. I wont ask anything other then you friendship.', 'ham'),\n",
       " (\"Hey i've booked the 2 lessons on sun liao...\", 'ham'),\n",
       " ('Ok lor wat time \\xc3\\xbc finish?', 'ham'),\n",
       " (\"New Theory: Argument wins d SITUATION, but loses the PERSON. So dont argue with ur friends just.. . . . kick them &amp; say, I'm always correct.!\",\n",
       "  'ham'),\n",
       " ('Okie...', 'ham'),\n",
       " ('Are you ok. What happen to behave like this', 'ham'),\n",
       " ('I am in tirupur da, once you started from office call me.', 'ham')]"
      ]
     },
     "execution_count": 6,
     "metadata": {},
     "output_type": "execute_result"
    }
   ],
   "source": [
    "tuple_SMS[:10]"
   ]
  },
  {
   "cell_type": "code",
   "execution_count": 7,
   "metadata": {
    "collapsed": true
   },
   "outputs": [],
   "source": [
    "stoplist = stopwords.words('english')\n"
   ]
  },
  {
   "cell_type": "code",
   "execution_count": 8,
   "metadata": {
    "collapsed": false
   },
   "outputs": [],
   "source": [
    "#lemmatize, make lowercase  and tokenize\n",
    "def preprocess(sentence):\n",
    "    return [wnl.lemmatize(word.lower()) for word in word_tokenize(sentence)]\n"
   ]
  },
  {
   "cell_type": "code",
   "execution_count": 9,
   "metadata": {
    "collapsed": false
   },
   "outputs": [],
   "source": [
    "# Was getting an error so needed to decode\n",
    "decoded = [(unicode(text, 'utf8'), label) for (text, label) in tuple_SMS]\n"
   ]
  },
  {
   "cell_type": "code",
   "execution_count": 10,
   "metadata": {
    "collapsed": true
   },
   "outputs": [],
   "source": [
    "from collections import Counter"
   ]
  },
  {
   "cell_type": "code",
   "execution_count": 11,
   "metadata": {
    "collapsed": true
   },
   "outputs": [],
   "source": [
    "# From cambridge coding directly\n",
    "#bow setting -> bag of words\n",
    "def get_features(text, setting):\n",
    "    if setting=='bow':\n",
    "        return {word: count for word, count in Counter(preprocess(text)).items() if not word in stoplist}\n",
    "    else:\n",
    "        return {word: True for word in preprocess(text) if not word in stoplist}"
   ]
  },
  {
   "cell_type": "code",
   "execution_count": 12,
   "metadata": {
    "collapsed": false
   },
   "outputs": [],
   "source": [
    "all_features = [(get_features(text, 'bow'), label) for (text, label) in decoded]"
   ]
  },
  {
   "cell_type": "code",
   "execution_count": 13,
   "metadata": {
    "collapsed": true
   },
   "outputs": [],
   "source": [
    "def train(features, samples_proportion):\n",
    "    train_size = int(len(features) * samples_proportion)\n",
    "    train_set, test_set = features[:train_size], features[train_size:]\n",
    "    print ('Training set size = ' + str(len(train_set)) + ' emails')\n",
    "    print ('Test set size = ' + str(len(test_set)) + ' emails')\n",
    "    #testing\n",
    "    classifier = NaiveBayesClassifier.train(train_set)\n",
    "    return train_set, test_set, classifier"
   ]
  },
  {
   "cell_type": "code",
   "execution_count": 14,
   "metadata": {
    "collapsed": false
   },
   "outputs": [
    {
     "name": "stdout",
     "output_type": "stream",
     "text": [
      "Training set size = 4457 emails\n",
      "Test set size = 1115 emails\n"
     ]
    }
   ],
   "source": [
    "train_set, test_set, classifier = train(all_features, 0.8)"
   ]
  },
  {
   "cell_type": "code",
   "execution_count": 15,
   "metadata": {
    "collapsed": false
   },
   "outputs": [
    {
     "data": {
      "text/plain": [
       "0.8941704035874439"
      ]
     },
     "execution_count": 15,
     "metadata": {},
     "output_type": "execute_result"
    }
   ],
   "source": [
    "#test accuracy\n",
    "classify.accuracy(classifier, test_set)"
   ]
  },
  {
   "cell_type": "code",
   "execution_count": 16,
   "metadata": {
    "collapsed": false
   },
   "outputs": [
    {
     "name": "stdout",
     "output_type": "stream",
     "text": [
      "Most Informative Features\n",
      "                  urgent = 1                spam : ham    =    192.0 : 1.0\n",
      "                 voucher = 1                spam : ham    =    111.9 : 1.0\n",
      "                    code = 1                spam : ham    =    103.5 : 1.0\n",
      "                   apply = 1                spam : ham    =    103.5 : 1.0\n",
      "                      16 = 1                spam : ham    =     95.0 : 1.0\n",
      "                    free = 2                spam : ham    =     94.9 : 1.0\n",
      "                   pound = 1                spam : ham    =     86.6 : 1.0\n",
      "                 service = 1                spam : ham    =     82.3 : 1.0\n",
      "                     txt = 1                spam : ham    =     75.6 : 1.0\n",
      "                    rate = 1                spam : ham    =     72.2 : 1.0\n",
      "                      po = 1                spam : ham    =     69.7 : 1.0\n",
      "                 private = 1                spam : ham    =     69.7 : 1.0\n",
      "                    land = 1                spam : ham    =     65.5 : 1.0\n",
      "                     100 = 1                spam : ham    =     61.2 : 1.0\n",
      "                    xmas = 1                spam : ham    =     61.2 : 1.0\n",
      "                      uk = 1                spam : ham    =     61.2 : 1.0\n",
      "                delivery = 1                spam : ham    =     61.2 : 1.0\n",
      "                landline = 1                spam : ham    =     59.5 : 1.0\n",
      "                  orange = 1                spam : ham    =     59.5 : 1.0\n",
      "                    quiz = 1                spam : ham    =     57.0 : 1.0\n",
      "                   await = 1                spam : ham    =     57.0 : 1.0\n",
      "                  colour = 1                spam : ham    =     57.0 : 1.0\n",
      "                 receive = 1                spam : ham    =     54.4 : 1.0\n",
      "                   final = 1                spam : ham    =     52.8 : 1.0\n",
      "                       > = 1                spam : ham    =     52.7 : 1.0\n",
      "                   nokia = 1                spam : ham    =     51.5 : 1.0\n",
      "                  latest = 1                spam : ham    =     49.7 : 1.0\n",
      "                     box = 1                spam : ham    =     48.0 : 1.0\n",
      "                   video = 1                spam : ham    =     46.8 : 1.0\n",
      "                     win = 1                spam : ham    =     45.2 : 1.0\n",
      "                customer = 1                spam : ham    =     44.3 : 1.0\n",
      "                selected = 1                spam : ham    =     40.7 : 1.0\n",
      "                  camera = 1                spam : ham    =     40.7 : 1.0\n",
      "                 content = 1                spam : ham    =     40.1 : 1.0\n",
      "                      cd = 1                spam : ham    =     40.1 : 1.0\n",
      "                 attempt = 1                spam : ham    =     39.3 : 1.0\n",
      "               statement = 1                spam : ham    =     36.7 : 1.0\n",
      "                  mobile = 1                spam : ham    =     36.4 : 1.0\n",
      "                    draw = 1                spam : ham    =     36.3 : 1.0\n",
      "                    cash = 1                spam : ham    =     36.1 : 1.0\n",
      "                sunshine = 1                spam : ham    =     35.9 : 1.0\n",
      "                    1000 = 1                spam : ham    =     35.9 : 1.0\n",
      "                      s. = 1                spam : ham    =     35.9 : 1.0\n",
      "                  txting = 1                spam : ham    =     35.9 : 1.0\n",
      "                     sex = 1                spam : ham    =     35.9 : 1.0\n",
      "                    text = 2                spam : ham    =     34.2 : 1.0\n",
      "                 network = 1                spam : ham    =     31.7 : 1.0\n",
      "                    info = 1                spam : ham    =     31.7 : 1.0\n",
      "                  flight = 1                spam : ham    =     31.7 : 1.0\n",
      "                     del = 1                spam : ham    =     31.7 : 1.0\n"
     ]
    }
   ],
   "source": [
    "#informative features\n",
    "classifier.show_most_informative_features(50)"
   ]
  },
  {
   "cell_type": "code",
   "execution_count": null,
   "metadata": {
    "collapsed": true
   },
   "outputs": [],
   "source": []
  }
 ],
 "metadata": {
  "anaconda-cloud": {},
  "kernelspec": {
   "display_name": "Python [conda root]",
   "language": "python",
   "name": "conda-root-py"
  },
  "language_info": {
   "codemirror_mode": {
    "name": "ipython",
    "version": 2
   },
   "file_extension": ".py",
   "mimetype": "text/x-python",
   "name": "python",
   "nbconvert_exporter": "python",
   "pygments_lexer": "ipython2",
   "version": "2.7.12"
  }
 },
 "nbformat": 4,
 "nbformat_minor": 0
}
