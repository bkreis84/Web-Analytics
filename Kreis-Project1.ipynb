{
 "cells": [
  {
   "cell_type": "code",
   "execution_count": 1,
   "metadata": {
    "collapsed": true
   },
   "outputs": [],
   "source": [
    "import networkx as nx\n",
    "import matplotlib as mplot\n",
    "import urllib\n",
    "import pandas as pd\n",
    "import numpy as np\n",
    "%matplotlib inline\n"
   ]
  },
  {
   "cell_type": "code",
   "execution_count": 2,
   "metadata": {
    "collapsed": false
   },
   "outputs": [],
   "source": [
    "# Import the raw data file\n",
    "url = 'https://github.com/bkreis84/Web-Analytics/blob/master/bankmergerdata-xpt.xpt?raw=true'"
   ]
  },
  {
   "cell_type": "code",
   "execution_count": 3,
   "metadata": {
    "collapsed": false
   },
   "outputs": [],
   "source": [
    "#use pandas to read a sas file\n",
    "g = pd.read_sas(url)"
   ]
  },
  {
   "cell_type": "code",
   "execution_count": 4,
   "metadata": {
    "collapsed": true
   },
   "outputs": [],
   "source": [
    "#convert to dataframe\n",
    "df = pd.DataFrame(g)"
   ]
  },
  {
   "cell_type": "code",
   "execution_count": 5,
   "metadata": {
    "collapsed": false
   },
   "outputs": [],
   "source": [
    "# Look at merger date on or after 2000\n",
    "df = df[df['MERGE_DT'] >= 20000101]\n",
    "\n",
    "#Pull out only the instances where the bank being acquired ceased to exist -didn't just sell some or most of their assets\n",
    "codes = [50,1,9]\n",
    "df = df[df['MERGE_CD'].isin(codes)]"
   ]
  },
  {
   "cell_type": "code",
   "execution_count": 6,
   "metadata": {
    "collapsed": false
   },
   "outputs": [
    {
     "data": {
      "text/plain": [
       "MERGE_DT    6237\n",
       "MERGE_CD    6237\n",
       "CODE        6237\n",
       "NON_ID      6237\n",
       "NON_SURV    6237\n",
       "NON_CITY    6237\n",
       "NON_ST      6237\n",
       "NON_TYP     6237\n",
       "NON_TID     6237\n",
       "NON_TOP     6237\n",
       "SURV_ID     6237\n",
       "SURV_NM     6237\n",
       "SURV_CTY    6237\n",
       "SURV_ST     6237\n",
       "SURV_TYP    6237\n",
       "SURV_TID    6237\n",
       "SURV_TOP    6237\n",
       "ACT_MTHD    6237\n",
       "dtype: int64"
      ]
     },
     "execution_count": 6,
     "metadata": {},
     "output_type": "execute_result"
    }
   ],
   "source": [
    "df.count()"
   ]
  },
  {
   "cell_type": "code",
   "execution_count": 7,
   "metadata": {
    "collapsed": false
   },
   "outputs": [
    {
     "data": {
      "text/html": [
       "<div>\n",
       "<table border=\"1\" class=\"dataframe\">\n",
       "  <thead>\n",
       "    <tr style=\"text-align: right;\">\n",
       "      <th></th>\n",
       "      <th>MERGE_DT</th>\n",
       "      <th>MERGE_CD</th>\n",
       "      <th>CODE</th>\n",
       "      <th>NON_ID</th>\n",
       "      <th>NON_SURV</th>\n",
       "      <th>NON_CITY</th>\n",
       "      <th>NON_ST</th>\n",
       "      <th>NON_TYP</th>\n",
       "      <th>NON_TID</th>\n",
       "      <th>NON_TOP</th>\n",
       "      <th>SURV_ID</th>\n",
       "      <th>SURV_NM</th>\n",
       "      <th>SURV_CTY</th>\n",
       "      <th>SURV_ST</th>\n",
       "      <th>SURV_TYP</th>\n",
       "      <th>SURV_TID</th>\n",
       "      <th>SURV_TOP</th>\n",
       "      <th>ACT_MTHD</th>\n",
       "    </tr>\n",
       "  </thead>\n",
       "  <tbody>\n",
       "    <tr>\n",
       "      <th>8</th>\n",
       "      <td>20070817</td>\n",
       "      <td>1</td>\n",
       "      <td>5.397605e-79</td>\n",
       "      <td>439</td>\n",
       "      <td>PEOPLES BK</td>\n",
       "      <td>BLACKSHEAR</td>\n",
       "      <td>GA</td>\n",
       "      <td>NMB</td>\n",
       "      <td>1.086748e+06</td>\n",
       "      <td>LIBERTY SHARES</td>\n",
       "      <td>507330</td>\n",
       "      <td>HERITAGE BK</td>\n",
       "      <td>HINESVILLE</td>\n",
       "      <td>GA</td>\n",
       "      <td>NMB</td>\n",
       "      <td>1086748</td>\n",
       "      <td>LIBERTY SHARES</td>\n",
       "      <td>1.000000e+00</td>\n",
       "    </tr>\n",
       "    <tr>\n",
       "      <th>12</th>\n",
       "      <td>20000325</td>\n",
       "      <td>1</td>\n",
       "      <td>5.397605e-79</td>\n",
       "      <td>608</td>\n",
       "      <td>VERMONT NB</td>\n",
       "      <td>BRATTLEBORO</td>\n",
       "      <td>VT</td>\n",
       "      <td>NAT</td>\n",
       "      <td>1.114605e+06</td>\n",
       "      <td>CHITTENDEN CORP</td>\n",
       "      <td>40305</td>\n",
       "      <td>CHITTENDEN TC</td>\n",
       "      <td>BURLINGTON</td>\n",
       "      <td>VT</td>\n",
       "      <td>NMB</td>\n",
       "      <td>1114605</td>\n",
       "      <td>CHITTENDEN CORP</td>\n",
       "      <td>1.000000e+00</td>\n",
       "    </tr>\n",
       "    <tr>\n",
       "      <th>19</th>\n",
       "      <td>20070423</td>\n",
       "      <td>1</td>\n",
       "      <td>2.000000e+00</td>\n",
       "      <td>1146</td>\n",
       "      <td>PULASKI B&amp;TC</td>\n",
       "      <td>LITTLE ROCK</td>\n",
       "      <td>AR</td>\n",
       "      <td>SMB</td>\n",
       "      <td>2.291914e+06</td>\n",
       "      <td>IBERIABANK CORP</td>\n",
       "      <td>369378</td>\n",
       "      <td>PULASKI B&amp;TC</td>\n",
       "      <td>LITTLE ROCK</td>\n",
       "      <td>AR</td>\n",
       "      <td>SAL</td>\n",
       "      <td>2291914</td>\n",
       "      <td>IBERIABANK CORP</td>\n",
       "      <td>5.397605e-79</td>\n",
       "    </tr>\n",
       "    <tr>\n",
       "      <th>22</th>\n",
       "      <td>20100601</td>\n",
       "      <td>1</td>\n",
       "      <td>5.397605e-79</td>\n",
       "      <td>1632</td>\n",
       "      <td>SEA ISLAND BK</td>\n",
       "      <td>STATESBORO</td>\n",
       "      <td>GA</td>\n",
       "      <td>NMB</td>\n",
       "      <td>1.078846e+06</td>\n",
       "      <td>SYNOVUS FC</td>\n",
       "      <td>395238</td>\n",
       "      <td>SYNOVUS BK</td>\n",
       "      <td>COLUMBUS</td>\n",
       "      <td>GA</td>\n",
       "      <td>NMB</td>\n",
       "      <td>1078846</td>\n",
       "      <td>SYNOVUS FC</td>\n",
       "      <td>1.000000e+00</td>\n",
       "    </tr>\n",
       "    <tr>\n",
       "      <th>30</th>\n",
       "      <td>20020322</td>\n",
       "      <td>1</td>\n",
       "      <td>5.397605e-79</td>\n",
       "      <td>1959</td>\n",
       "      <td>SECURITY ST BK</td>\n",
       "      <td>BIRD CITY</td>\n",
       "      <td>KS</td>\n",
       "      <td>NMB</td>\n",
       "      <td>5.397605e-79</td>\n",
       "      <td>N/A</td>\n",
       "      <td>805250</td>\n",
       "      <td>FIRST NB</td>\n",
       "      <td>GOODLAND</td>\n",
       "      <td>KS</td>\n",
       "      <td>NAT</td>\n",
       "      <td>2267731</td>\n",
       "      <td>FIRST NAT BSHRS ESOP &amp; 401 K T</td>\n",
       "      <td>2.000000e+00</td>\n",
       "    </tr>\n",
       "  </tbody>\n",
       "</table>\n",
       "</div>"
      ],
      "text/plain": [
       "    MERGE_DT  MERGE_CD          CODE  NON_ID        NON_SURV     NON_CITY  \\\n",
       "8   20070817         1  5.397605e-79     439      PEOPLES BK   BLACKSHEAR   \n",
       "12  20000325         1  5.397605e-79     608      VERMONT NB  BRATTLEBORO   \n",
       "19  20070423         1  2.000000e+00    1146    PULASKI B&TC  LITTLE ROCK   \n",
       "22  20100601         1  5.397605e-79    1632   SEA ISLAND BK   STATESBORO   \n",
       "30  20020322         1  5.397605e-79    1959  SECURITY ST BK    BIRD CITY   \n",
       "\n",
       "   NON_ST NON_TYP       NON_TID          NON_TOP  SURV_ID        SURV_NM  \\\n",
       "8      GA     NMB  1.086748e+06   LIBERTY SHARES   507330    HERITAGE BK   \n",
       "12     VT     NAT  1.114605e+06  CHITTENDEN CORP    40305  CHITTENDEN TC   \n",
       "19     AR     SMB  2.291914e+06  IBERIABANK CORP   369378   PULASKI B&TC   \n",
       "22     GA     NMB  1.078846e+06       SYNOVUS FC   395238     SYNOVUS BK   \n",
       "30     KS     NMB  5.397605e-79              N/A   805250       FIRST NB   \n",
       "\n",
       "       SURV_CTY SURV_ST SURV_TYP  SURV_TID                        SURV_TOP  \\\n",
       "8    HINESVILLE      GA      NMB   1086748                  LIBERTY SHARES   \n",
       "12   BURLINGTON      VT      NMB   1114605                 CHITTENDEN CORP   \n",
       "19  LITTLE ROCK      AR      SAL   2291914                 IBERIABANK CORP   \n",
       "22     COLUMBUS      GA      NMB   1078846                      SYNOVUS FC   \n",
       "30     GOODLAND      KS      NAT   2267731  FIRST NAT BSHRS ESOP & 401 K T   \n",
       "\n",
       "        ACT_MTHD  \n",
       "8   1.000000e+00  \n",
       "12  1.000000e+00  \n",
       "19  5.397605e-79  \n",
       "22  1.000000e+00  \n",
       "30  2.000000e+00  "
      ]
     },
     "execution_count": 7,
     "metadata": {},
     "output_type": "execute_result"
    }
   ],
   "source": [
    "df.head()"
   ]
  },
  {
   "cell_type": "code",
   "execution_count": 8,
   "metadata": {
    "collapsed": false
   },
   "outputs": [
    {
     "data": {
      "text/html": [
       "<div>\n",
       "<table border=\"1\" class=\"dataframe\">\n",
       "  <thead>\n",
       "    <tr style=\"text-align: right;\">\n",
       "      <th></th>\n",
       "      <th>1</th>\n",
       "    </tr>\n",
       "    <tr>\n",
       "      <th>SURV_TOP</th>\n",
       "      <th></th>\n",
       "    </tr>\n",
       "  </thead>\n",
       "  <tbody>\n",
       "    <tr>\n",
       "      <th>WELLS FARGO &amp; CO</th>\n",
       "      <td>116</td>\n",
       "    </tr>\n",
       "    <tr>\n",
       "      <th>BB&amp;T CORP</th>\n",
       "      <td>103</td>\n",
       "    </tr>\n",
       "    <tr>\n",
       "      <th>U S BC</th>\n",
       "      <td>56</td>\n",
       "    </tr>\n",
       "    <tr>\n",
       "      <th>SYNOVUS FC</th>\n",
       "      <td>50</td>\n",
       "    </tr>\n",
       "    <tr>\n",
       "      <th>MARSHALL &amp; ILSLEY CORP</th>\n",
       "      <td>41</td>\n",
       "    </tr>\n",
       "    <tr>\n",
       "      <th>SUNTRUST BK</th>\n",
       "      <td>39</td>\n",
       "    </tr>\n",
       "    <tr>\n",
       "      <th>FNB CORP</th>\n",
       "      <td>39</td>\n",
       "    </tr>\n",
       "    <tr>\n",
       "      <th>HARRIS FC</th>\n",
       "      <td>35</td>\n",
       "    </tr>\n",
       "    <tr>\n",
       "      <th>BANK OF AMER CORP</th>\n",
       "      <td>33</td>\n",
       "    </tr>\n",
       "    <tr>\n",
       "      <th>PNC FNCL SVC GROUP</th>\n",
       "      <td>33</td>\n",
       "    </tr>\n",
       "  </tbody>\n",
       "</table>\n",
       "</div>"
      ],
      "text/plain": [
       "                          1\n",
       "SURV_TOP                   \n",
       "WELLS FARGO & CO        116\n",
       "BB&T CORP               103\n",
       "U S BC                   56\n",
       "SYNOVUS FC               50\n",
       "MARSHALL & ILSLEY CORP   41\n",
       "SUNTRUST BK              39\n",
       "FNB CORP                 39\n",
       "HARRIS FC                35\n",
       "BANK OF AMER CORP        33\n",
       "PNC FNCL SVC GROUP       33"
      ]
     },
     "execution_count": 8,
     "metadata": {},
     "output_type": "execute_result"
    }
   ],
   "source": [
    "# Sort by which companies had the most acquistions and show the top 10\n",
    "df['1'] = 1\n",
    "df = df.replace('N/A', np.nan)\n",
    "group = df[['SURV_TOP','1']]\n",
    "group = group.groupby('SURV_TOP').sum()\n",
    "group = group.sort_values(by='1', ascending=False)\n",
    "group[:10]"
   ]
  },
  {
   "cell_type": "code",
   "execution_count": 9,
   "metadata": {
    "collapsed": false
   },
   "outputs": [
    {
     "data": {
      "text/plain": [
       "SURV_ID     6237\n",
       "SURV_NM     6237\n",
       "SURV_TYP    6237\n",
       "SURV_ST     6237\n",
       "NON_ID      6237\n",
       "NON_SURV    6237\n",
       "NON_TYP     6237\n",
       "NON_ST      6237\n",
       "CODE        6237\n",
       "MERGE_CD    6237\n",
       "dtype: int64"
      ]
     },
     "execution_count": 9,
     "metadata": {},
     "output_type": "execute_result"
    }
   ],
   "source": [
    "#subset to the data we need and get rid of rows that contain NaN values\n",
    "sub = df[['SURV_ID', 'SURV_NM', 'SURV_TYP', 'SURV_ST', 'NON_ID', 'NON_SURV', 'NON_TYP', 'NON_ST', 'CODE', 'MERGE_CD' ]]\n",
    "sub.count()\n",
    "sub = sub.dropna()\n",
    "sub.count()"
   ]
  },
  {
   "cell_type": "code",
   "execution_count": 10,
   "metadata": {
    "collapsed": false
   },
   "outputs": [
    {
     "data": {
      "text/plain": [
       "ID       5096\n",
       "Name     5096\n",
       "Type     5096\n",
       "State    5096\n",
       "dtype: int64"
      ]
     },
     "execution_count": 10,
     "metadata": {},
     "output_type": "execute_result"
    }
   ],
   "source": [
    "#create the nodes, starting with the non surviving institutions\n",
    "non = sub[['NON_ID', 'NON_SURV', 'NON_TYP', 'NON_ST']]\n",
    "non = non.drop_duplicates('NON_SURV')\n",
    "non.columns = ['ID', 'Name', 'Type', 'State']\n",
    "non.count()\n"
   ]
  },
  {
   "cell_type": "code",
   "execution_count": 11,
   "metadata": {
    "collapsed": false
   },
   "outputs": [
    {
     "data": {
      "text/plain": [
       "ID       2340\n",
       "Name     2340\n",
       "Type     2340\n",
       "State    2340\n",
       "dtype: int64"
      ]
     },
     "execution_count": 11,
     "metadata": {},
     "output_type": "execute_result"
    }
   ],
   "source": [
    "#Find the acquiring banks for our nodes\n",
    "surv = sub[['SURV_ID', 'SURV_NM', 'SURV_TYP', 'SURV_ST']]\n",
    "surv = surv.drop_duplicates('SURV_ID')\n",
    "surv.columns = ['ID', 'Name', 'Type', 'State']\n",
    "surv.count()"
   ]
  },
  {
   "cell_type": "code",
   "execution_count": 12,
   "metadata": {
    "collapsed": false
   },
   "outputs": [
    {
     "data": {
      "text/plain": [
       "ID       7436\n",
       "Name     7436\n",
       "Type     7436\n",
       "State    7436\n",
       "dtype: int64"
      ]
     },
     "execution_count": 12,
     "metadata": {},
     "output_type": "execute_result"
    }
   ],
   "source": [
    "#combined nodes\n",
    "nodes = pd.concat([surv, non], ignore_index=True)\n",
    "nodes.count()"
   ]
  },
  {
   "cell_type": "code",
   "execution_count": 13,
   "metadata": {
    "collapsed": false
   },
   "outputs": [
    {
     "data": {
      "text/plain": [
       "ID       6823\n",
       "Name     6823\n",
       "Type     6823\n",
       "State    6823\n",
       "dtype: int64"
      ]
     },
     "execution_count": 13,
     "metadata": {},
     "output_type": "execute_result"
    }
   ],
   "source": [
    "#There may be banks that made acquisitions that no longer exist. We need to remove those duplicates.\n",
    "nodes = nodes.drop_duplicates('ID')\n",
    "nodes.count()"
   ]
  },
  {
   "cell_type": "code",
   "execution_count": null,
   "metadata": {
    "collapsed": false
   },
   "outputs": [],
   "source": [
    "\n"
   ]
  },
  {
   "cell_type": "code",
   "execution_count": 14,
   "metadata": {
    "collapsed": false
   },
   "outputs": [],
   "source": [
    "#create the empty graph and add nodes and atributes \n",
    "G = nx.DiGraph()\n",
    "\n",
    "for i in range(len(nodes)):\n",
    "    G.add_node(nodes.iloc[i]['Name'], ID=nodes.iloc[i]['ID'], Type=nodes.iloc[i]['Type'], \n",
    "               State=nodes.iloc[i]['State'])\n",
    "    \n"
   ]
  },
  {
   "cell_type": "code",
   "execution_count": 15,
   "metadata": {
    "collapsed": false
   },
   "outputs": [],
   "source": [
    "# create edges using the earlier dataframe\n",
    "for i in range(len(sub)):\n",
    "    G.add_edge(sub.iloc[i]['SURV_NM'], sub.iloc[i]['NON_SURV'], MergerID=sub.iloc[i]['CODE'], \n",
    "               Code=sub.iloc[i]['MERGE_CD'])\n",
    "    "
   ]
  },
  {
   "cell_type": "code",
   "execution_count": 16,
   "metadata": {
    "collapsed": false
   },
   "outputs": [
    {
     "data": {
      "text/plain": [
       "{'ID': 395238.0, 'State': 'GA', 'Type': 'NMB'}"
      ]
     },
     "execution_count": 16,
     "metadata": {},
     "output_type": "execute_result"
    }
   ],
   "source": [
    "#Quick test \n",
    "G.node['SYNOVUS BK']\n"
   ]
  },
  {
   "cell_type": "code",
   "execution_count": 17,
   "metadata": {
    "collapsed": false
   },
   "outputs": [
    {
     "data": {
      "text/plain": [
       "{'Code': 1.0, 'MergerID': 5.3976053469340279e-79}"
      ]
     },
     "execution_count": 17,
     "metadata": {},
     "output_type": "execute_result"
    }
   ],
   "source": [
    "G.edge['SYNOVUS BK']['SEA ISLAND BK']\n"
   ]
  },
  {
   "cell_type": "code",
   "execution_count": null,
   "metadata": {
    "collapsed": true
   },
   "outputs": [],
   "source": [
    "Gephi image of network below"
   ]
  },
  {
   "cell_type": "markdown",
   "metadata": {},
   "source": [
    "![Image of Yaktocat](https://github.com/bkreis84/Web-Analytics/blob/master/Network.jpg?raw=true)"
   ]
  },
  {
   "cell_type": "code",
   "execution_count": 18,
   "metadata": {
    "collapsed": false
   },
   "outputs": [],
   "source": [
    " nx.write_pajek(G,\"Banks.net\") # save the file and it can be read by most any SNA package"
   ]
  },
  {
   "cell_type": "code",
   "execution_count": 19,
   "metadata": {
    "collapsed": false
   },
   "outputs": [],
   "source": [
    "#Test betweenness and assign it as a node attribute\n",
    "bw = nx.betweenness_centrality(G)\n",
    "nx.set_node_attributes(G, 'betweenness', bw)"
   ]
  },
  {
   "cell_type": "code",
   "execution_count": 20,
   "metadata": {
    "collapsed": false
   },
   "outputs": [
    {
     "data": {
      "text/plain": [
       "[('FIRST NB', 0.0028166456121925675),\n",
       " ('FIRST BK', 0.0016618575792614438),\n",
       " ('CITIZENS ST BK', 0.001489977218413474),\n",
       " ('FIRST ST BK', 0.001094100588213008),\n",
       " ('CITIZENS BK', 0.0008901236631546599),\n",
       " ('FIRST CMNTY BK', 0.0008543245752224134),\n",
       " ('COMMUNITY BK', 0.0005580057375690764),\n",
       " ('STATE B&TC', 0.0004418189319460556),\n",
       " ('FIRST B&TC', 0.0004332266269938783),\n",
       " ('PEOPLES BK', 0.0004318066802422783)]"
      ]
     },
     "execution_count": 20,
     "metadata": {},
     "output_type": "execute_result"
    }
   ],
   "source": [
    "#sort and display the top 10\n",
    "bwsort = bw.items()\n",
    "bwsort.sort(key=lambda x:x[1], reverse=True)\n",
    "bwsort[:10]"
   ]
  },
  {
   "cell_type": "code",
   "execution_count": 21,
   "metadata": {
    "collapsed": false
   },
   "outputs": [],
   "source": [
    "#test the eigenvector centrality and assign it as a node attribute\n",
    "ev = nx.eigenvector_centrality(G)\n",
    "nx.set_node_attributes(G, 'eigenvector_centrality', ev)"
   ]
  },
  {
   "cell_type": "code",
   "execution_count": 22,
   "metadata": {
    "collapsed": false
   },
   "outputs": [
    {
     "data": {
      "text/plain": [
       "[('FIRST NB', 0.29593738910472517),\n",
       " ('FIRST ST BK', 0.24611569105371),\n",
       " ('CITIZENS BK', 0.18724668088855678),\n",
       " ('SECURITY ST BK', 0.180825305029966),\n",
       " ('NATIONAL BK', 0.14004174851672702),\n",
       " ('CITIZENS NB', 0.12545680004460963),\n",
       " ('FARMERS BK', 0.11631730347074468),\n",
       " ('CITY ST BK', 0.11631714833774677),\n",
       " ('CITIZENS B&TC', 0.1003404130939913),\n",
       " ('HOME ST BK', 0.09520810380056823)]"
      ]
     },
     "execution_count": 22,
     "metadata": {},
     "output_type": "execute_result"
    }
   ],
   "source": [
    "evsort = ev.items()\n",
    "evsort.sort(key=lambda x:x[1], reverse=True)\n",
    "evsort[:10]"
   ]
  },
  {
   "cell_type": "code",
   "execution_count": 23,
   "metadata": {
    "collapsed": false
   },
   "outputs": [
    {
     "data": {
      "text/plain": [
       "{'ID': 22954.0,\n",
       " 'State': 'MN',\n",
       " 'Type': 'NAT',\n",
       " 'betweenness': 0.0028166456121925675,\n",
       " 'eigenvector_centrality': 0.29593738910472517}"
      ]
     },
     "execution_count": 23,
     "metadata": {},
     "output_type": "execute_result"
    }
   ],
   "source": [
    "G.node['FIRST NB']"
   ]
  },
  {
   "cell_type": "code",
   "execution_count": 24,
   "metadata": {
    "collapsed": true
   },
   "outputs": [],
   "source": [
    "#Test the degree and assign it as a node attribute\n",
    "dc = nx.degree_centrality(G)\n",
    "nx.set_node_attributes(G, 'degree_centrality', dc)"
   ]
  },
  {
   "cell_type": "code",
   "execution_count": 25,
   "metadata": {
    "collapsed": false
   },
   "outputs": [
    {
     "data": {
      "text/plain": [
       "[('FDIC', 0.02947076068507946),\n",
       " ('FIRST NB', 0.018207066810677363),\n",
       " ('FIRST ST BK', 0.013115259990742168),\n",
       " ('BRANCH BKG&TC', 0.012189476932572134),\n",
       " ('WELLS FARGO BK NA', 0.010492207992593735),\n",
       " ('U S BK NA', 0.007097670112636938),\n",
       " ('FIRST BK', 0.006480481407190248),\n",
       " ('SUNTRUST BK', 0.00601758987810523),\n",
       " ('CITIZENS BK', 0.00601758987810523),\n",
       " ('M&I MARSHALL & ILSLEY BK', 0.00540040117265854)]"
      ]
     },
     "execution_count": 25,
     "metadata": {},
     "output_type": "execute_result"
    }
   ],
   "source": [
    "dcsort = dc.items()\n",
    "dcsort.sort(key=lambda x:x[1], reverse=True)\n",
    "dcsort[:10]"
   ]
  },
  {
   "cell_type": "code",
   "execution_count": 26,
   "metadata": {
    "collapsed": false
   },
   "outputs": [],
   "source": [
    "#Get the node attributes we need to do some statistical testing\n",
    "org = nx.get_node_attributes(G,'Type')\n",
    "eigen = nx.get_node_attributes(G,'eigenvector_centrality')\n",
    "dcen = nx.get_node_attributes(G,'degree_centrality')\n",
    "\n"
   ]
  },
  {
   "cell_type": "code",
   "execution_count": 27,
   "metadata": {
    "collapsed": false
   },
   "outputs": [],
   "source": [
    "#merge the data\n",
    "btype = pd.DataFrame(org.items(), columns=['Bank', 'Type'])\n",
    "egv = pd.DataFrame(eigen.items(), columns=['Bank', 'Eigenvector'])\n",
    "dcf = pd.DataFrame(dcen.items(), columns=['Bank', 'Degree Centrality'])"
   ]
  },
  {
   "cell_type": "code",
   "execution_count": 28,
   "metadata": {
    "collapsed": false
   },
   "outputs": [],
   "source": [
    "x = btype.merge(egv)\n",
    "x = x.merge(dcf)"
   ]
  },
  {
   "cell_type": "code",
   "execution_count": null,
   "metadata": {
    "collapsed": true
   },
   "outputs": [],
   "source": []
  },
  {
   "cell_type": "code",
   "execution_count": 29,
   "metadata": {
    "collapsed": false
   },
   "outputs": [
    {
     "data": {
      "text/html": [
       "<div>\n",
       "<table border=\"1\" class=\"dataframe\">\n",
       "  <thead>\n",
       "    <tr style=\"text-align: right;\">\n",
       "      <th></th>\n",
       "      <th>Bank</th>\n",
       "      <th>Type</th>\n",
       "      <th>Eigenvector</th>\n",
       "      <th>Degree Centrality</th>\n",
       "    </tr>\n",
       "  </thead>\n",
       "  <tbody>\n",
       "    <tr>\n",
       "      <th>0</th>\n",
       "      <td>FARMERS ST BK OF JETMORE KS</td>\n",
       "      <td>NMB</td>\n",
       "      <td>0.000000e+00</td>\n",
       "      <td>0.000154</td>\n",
       "    </tr>\n",
       "    <tr>\n",
       "      <th>1</th>\n",
       "      <td>STATE BK OF ROGERS</td>\n",
       "      <td>NMB</td>\n",
       "      <td>0.000000e+00</td>\n",
       "      <td>0.000154</td>\n",
       "    </tr>\n",
       "    <tr>\n",
       "      <th>2</th>\n",
       "      <td>FIRST BK OF HASKELL</td>\n",
       "      <td>SMB</td>\n",
       "      <td>0.000000e+00</td>\n",
       "      <td>0.000154</td>\n",
       "    </tr>\n",
       "    <tr>\n",
       "      <th>3</th>\n",
       "      <td>BANK OF LARAMIE NA</td>\n",
       "      <td>NAT</td>\n",
       "      <td>7.091794e-08</td>\n",
       "      <td>0.000154</td>\n",
       "    </tr>\n",
       "    <tr>\n",
       "      <th>4</th>\n",
       "      <td>SIUSLAW BK</td>\n",
       "      <td>NMB</td>\n",
       "      <td>0.000000e+00</td>\n",
       "      <td>0.000154</td>\n",
       "    </tr>\n",
       "  </tbody>\n",
       "</table>\n",
       "</div>"
      ],
      "text/plain": [
       "                          Bank Type   Eigenvector  Degree Centrality\n",
       "0  FARMERS ST BK OF JETMORE KS  NMB  0.000000e+00           0.000154\n",
       "1           STATE BK OF ROGERS  NMB  0.000000e+00           0.000154\n",
       "2          FIRST BK OF HASKELL  SMB  0.000000e+00           0.000154\n",
       "3           BANK OF LARAMIE NA  NAT  7.091794e-08           0.000154\n",
       "4                   SIUSLAW BK  NMB  0.000000e+00           0.000154"
      ]
     },
     "execution_count": 29,
     "metadata": {},
     "output_type": "execute_result"
    }
   ],
   "source": [
    "x.head()"
   ]
  },
  {
   "cell_type": "code",
   "execution_count": 30,
   "metadata": {
    "collapsed": true
   },
   "outputs": [],
   "source": [
    "import scipy.stats as stats"
   ]
  },
  {
   "cell_type": "code",
   "execution_count": 31,
   "metadata": {
    "collapsed": false
   },
   "outputs": [
    {
     "data": {
      "text/html": [
       "<div>\n",
       "<table border=\"1\" class=\"dataframe\">\n",
       "  <thead>\n",
       "    <tr style=\"text-align: right;\">\n",
       "      <th></th>\n",
       "      <th>Eigenvector</th>\n",
       "      <th>Degree Centrality</th>\n",
       "    </tr>\n",
       "    <tr>\n",
       "      <th>Type</th>\n",
       "      <th></th>\n",
       "      <th></th>\n",
       "    </tr>\n",
       "  </thead>\n",
       "  <tbody>\n",
       "    <tr>\n",
       "      <th>AGI</th>\n",
       "      <td>0.000000e+00</td>\n",
       "      <td>0.000154</td>\n",
       "    </tr>\n",
       "    <tr>\n",
       "      <th>BHC</th>\n",
       "      <td>4.095218e-03</td>\n",
       "      <td>0.000154</td>\n",
       "    </tr>\n",
       "    <tr>\n",
       "      <th>CPB</th>\n",
       "      <td>9.402000e-10</td>\n",
       "      <td>0.000178</td>\n",
       "    </tr>\n",
       "    <tr>\n",
       "      <th>DEO</th>\n",
       "      <td>1.442548e-03</td>\n",
       "      <td>0.000246</td>\n",
       "    </tr>\n",
       "    <tr>\n",
       "      <th>DPS</th>\n",
       "      <td>3.893600e-05</td>\n",
       "      <td>0.000154</td>\n",
       "    </tr>\n",
       "    <tr>\n",
       "      <th>EDB</th>\n",
       "      <td>0.000000e+00</td>\n",
       "      <td>0.000154</td>\n",
       "    </tr>\n",
       "    <tr>\n",
       "      <th>FCU</th>\n",
       "      <td>0.000000e+00</td>\n",
       "      <td>0.000154</td>\n",
       "    </tr>\n",
       "    <tr>\n",
       "      <th>FHD</th>\n",
       "      <td>7.387286e-10</td>\n",
       "      <td>0.000154</td>\n",
       "    </tr>\n",
       "    <tr>\n",
       "      <th>FNC</th>\n",
       "      <td>1.187242e-09</td>\n",
       "      <td>0.000154</td>\n",
       "    </tr>\n",
       "    <tr>\n",
       "      <th>FSB</th>\n",
       "      <td>6.693665e-04</td>\n",
       "      <td>0.000247</td>\n",
       "    </tr>\n",
       "    <tr>\n",
       "      <th>INB</th>\n",
       "      <td>0.000000e+00</td>\n",
       "      <td>0.000154</td>\n",
       "    </tr>\n",
       "    <tr>\n",
       "      <th>MTC</th>\n",
       "      <td>2.350043e-03</td>\n",
       "      <td>0.000199</td>\n",
       "    </tr>\n",
       "    <tr>\n",
       "      <th>NAT</th>\n",
       "      <td>2.404230e-03</td>\n",
       "      <td>0.000335</td>\n",
       "    </tr>\n",
       "    <tr>\n",
       "      <th>NMB</th>\n",
       "      <td>2.277348e-03</td>\n",
       "      <td>0.000291</td>\n",
       "    </tr>\n",
       "    <tr>\n",
       "      <th>NTC</th>\n",
       "      <td>8.715961e-06</td>\n",
       "      <td>0.000162</td>\n",
       "    </tr>\n",
       "    <tr>\n",
       "      <th>SAL</th>\n",
       "      <td>1.003945e-03</td>\n",
       "      <td>0.000186</td>\n",
       "    </tr>\n",
       "    <tr>\n",
       "      <th>SBD</th>\n",
       "      <td>1.646134e-04</td>\n",
       "      <td>0.000154</td>\n",
       "    </tr>\n",
       "    <tr>\n",
       "      <th>SCU</th>\n",
       "      <td>4.432371e-09</td>\n",
       "      <td>0.000154</td>\n",
       "    </tr>\n",
       "    <tr>\n",
       "      <th>SLHC</th>\n",
       "      <td>0.000000e+00</td>\n",
       "      <td>0.000154</td>\n",
       "    </tr>\n",
       "    <tr>\n",
       "      <th>SMB</th>\n",
       "      <td>2.331903e-03</td>\n",
       "      <td>0.000338</td>\n",
       "    </tr>\n",
       "    <tr>\n",
       "      <th>SSB</th>\n",
       "      <td>1.402226e-03</td>\n",
       "      <td>0.000233</td>\n",
       "    </tr>\n",
       "  </tbody>\n",
       "</table>\n",
       "</div>"
      ],
      "text/plain": [
       "       Eigenvector  Degree Centrality\n",
       "Type                                 \n",
       "AGI   0.000000e+00           0.000154\n",
       "BHC   4.095218e-03           0.000154\n",
       "CPB   9.402000e-10           0.000178\n",
       "DEO   1.442548e-03           0.000246\n",
       "DPS   3.893600e-05           0.000154\n",
       "EDB   0.000000e+00           0.000154\n",
       "FCU   0.000000e+00           0.000154\n",
       "FHD   7.387286e-10           0.000154\n",
       "FNC   1.187242e-09           0.000154\n",
       "FSB   6.693665e-04           0.000247\n",
       "INB   0.000000e+00           0.000154\n",
       "MTC   2.350043e-03           0.000199\n",
       "NAT   2.404230e-03           0.000335\n",
       "NMB   2.277348e-03           0.000291\n",
       "NTC   8.715961e-06           0.000162\n",
       "SAL   1.003945e-03           0.000186\n",
       "SBD   1.646134e-04           0.000154\n",
       "SCU   4.432371e-09           0.000154\n",
       "SLHC  0.000000e+00           0.000154\n",
       "SMB   2.331903e-03           0.000338\n",
       "SSB   1.402226e-03           0.000233"
      ]
     },
     "execution_count": 31,
     "metadata": {},
     "output_type": "execute_result"
    }
   ],
   "source": [
    "group_by_type = x.groupby('Type')\n",
    "means = group_by_type.mean()\n",
    "means"
   ]
  },
  {
   "cell_type": "markdown",
   "metadata": {},
   "source": [
    "##### Null Hypothesis: There is not a statistically significant difference between the type of bank and the degree centrality of the populations mean as it pertains to mergers and acquisitions\n",
    "\n",
    "##### Alternative Hypothesis:  There is a statistically significant difference between the type of bank and the degree centrality of the populations mean as it pertains to mergers and acquisitions"
   ]
  },
  {
   "cell_type": "code",
   "execution_count": 32,
   "metadata": {
    "collapsed": false
   },
   "outputs": [
    {
     "data": {
      "text/html": [
       "<div>\n",
       "<table border=\"1\" class=\"dataframe\">\n",
       "  <thead>\n",
       "    <tr style=\"text-align: right;\">\n",
       "      <th></th>\n",
       "      <th>Eigenvector</th>\n",
       "      <th>Degree Centrality</th>\n",
       "    </tr>\n",
       "    <tr>\n",
       "      <th>Type</th>\n",
       "      <th></th>\n",
       "      <th></th>\n",
       "    </tr>\n",
       "  </thead>\n",
       "  <tbody>\n",
       "    <tr>\n",
       "      <th>SMB</th>\n",
       "      <td>2.331903e-03</td>\n",
       "      <td>0.000338</td>\n",
       "    </tr>\n",
       "    <tr>\n",
       "      <th>NAT</th>\n",
       "      <td>2.404230e-03</td>\n",
       "      <td>0.000335</td>\n",
       "    </tr>\n",
       "    <tr>\n",
       "      <th>NMB</th>\n",
       "      <td>2.277348e-03</td>\n",
       "      <td>0.000291</td>\n",
       "    </tr>\n",
       "    <tr>\n",
       "      <th>FSB</th>\n",
       "      <td>6.693665e-04</td>\n",
       "      <td>0.000247</td>\n",
       "    </tr>\n",
       "    <tr>\n",
       "      <th>DEO</th>\n",
       "      <td>1.442548e-03</td>\n",
       "      <td>0.000246</td>\n",
       "    </tr>\n",
       "    <tr>\n",
       "      <th>SSB</th>\n",
       "      <td>1.402226e-03</td>\n",
       "      <td>0.000233</td>\n",
       "    </tr>\n",
       "    <tr>\n",
       "      <th>MTC</th>\n",
       "      <td>2.350043e-03</td>\n",
       "      <td>0.000199</td>\n",
       "    </tr>\n",
       "    <tr>\n",
       "      <th>SAL</th>\n",
       "      <td>1.003945e-03</td>\n",
       "      <td>0.000186</td>\n",
       "    </tr>\n",
       "    <tr>\n",
       "      <th>CPB</th>\n",
       "      <td>9.402000e-10</td>\n",
       "      <td>0.000178</td>\n",
       "    </tr>\n",
       "    <tr>\n",
       "      <th>NTC</th>\n",
       "      <td>8.715961e-06</td>\n",
       "      <td>0.000162</td>\n",
       "    </tr>\n",
       "  </tbody>\n",
       "</table>\n",
       "</div>"
      ],
      "text/plain": [
       "       Eigenvector  Degree Centrality\n",
       "Type                                 \n",
       "SMB   2.331903e-03           0.000338\n",
       "NAT   2.404230e-03           0.000335\n",
       "NMB   2.277348e-03           0.000291\n",
       "FSB   6.693665e-04           0.000247\n",
       "DEO   1.442548e-03           0.000246\n",
       "SSB   1.402226e-03           0.000233\n",
       "MTC   2.350043e-03           0.000199\n",
       "SAL   1.003945e-03           0.000186\n",
       "CPB   9.402000e-10           0.000178\n",
       "NTC   8.715961e-06           0.000162"
      ]
     },
     "execution_count": 32,
     "metadata": {},
     "output_type": "execute_result"
    }
   ],
   "source": [
    "# Find the top 10 for degree centrality so we can test the following\n",
    "dc10 = means.sort_values(['Degree Centrality'], ascending=False)\n",
    "\n",
    "dc10[:10]"
   ]
  },
  {
   "cell_type": "code",
   "execution_count": 33,
   "metadata": {
    "collapsed": false
   },
   "outputs": [],
   "source": [
    "bhcDC = x[x.Type.isin(['BHC'])]\n",
    "natDC = x[x.Type.isin(['NAT'])]\n",
    "mtcDC = x[x.Type.isin(['MTC'])]\n",
    "smbDC = x[x.Type.isin(['SMB'])]\n",
    "nmbDC = x[x.Type.isin(['NMB'])]\n",
    "deoDC = x[x.Type.isin(['DEO'])]\n",
    "ssbDC = x[x.Type.isin(['SSB'])]\n",
    "salDC = x[x.Type.isin(['SAL'])]\n",
    "fsbDC = x[x.Type.isin(['FSB'])]\n",
    "sbdDC = x[x.Type.isin(['SBD'])]"
   ]
  },
  {
   "cell_type": "code",
   "execution_count": 34,
   "metadata": {
    "collapsed": false
   },
   "outputs": [],
   "source": [
    "bhc1 = bhcDC['Degree Centrality']\n",
    "nat1 = natDC['Degree Centrality']\n",
    "mtc1 = mtcDC['Degree Centrality']\n",
    "smb1 = smbDC['Degree Centrality']\n",
    "nmb1 = nmbDC['Degree Centrality']\n",
    "deo1 = deoDC['Degree Centrality']\n",
    "ssb1 = ssbDC['Degree Centrality']\n",
    "sal1 = salDC['Degree Centrality']\n",
    "fsb1 = fsbDC['Degree Centrality']\n",
    "sbd1 = sbdDC['Degree Centrality']"
   ]
  },
  {
   "cell_type": "code",
   "execution_count": 35,
   "metadata": {
    "collapsed": false
   },
   "outputs": [
    {
     "data": {
      "text/plain": [
       "F_onewayResult(statistic=2.6161431040679242, pvalue=0.0051420160090256085)"
      ]
     },
     "execution_count": 35,
     "metadata": {},
     "output_type": "execute_result"
    }
   ],
   "source": [
    "stats.f_oneway(bhc1, nat1, mtc1, smb1, nmb1, deo1, ssb1, sal1, fsb1, sbd1)"
   ]
  },
  {
   "cell_type": "markdown",
   "metadata": {},
   "source": [
    "#Our P-value is .0051 indicating that there is less than a 1% chance that the differences in degree centrality could have occured by chance. We therefore rject the null hypothesis and acept the alternative hypothesis, indicating that the type of bank may have an influence on the degree centrality."
   ]
  },
  {
   "cell_type": "markdown",
   "metadata": {},
   "source": []
  }
 ],
 "metadata": {
  "anaconda-cloud": {},
  "kernelspec": {
   "display_name": "Python [conda root]",
   "language": "python",
   "name": "conda-root-py"
  },
  "language_info": {
   "codemirror_mode": {
    "name": "ipython",
    "version": 2
   },
   "file_extension": ".py",
   "mimetype": "text/x-python",
   "name": "python",
   "nbconvert_exporter": "python",
   "pygments_lexer": "ipython2",
   "version": "2.7.12"
  }
 },
 "nbformat": 4,
 "nbformat_minor": 0
}
