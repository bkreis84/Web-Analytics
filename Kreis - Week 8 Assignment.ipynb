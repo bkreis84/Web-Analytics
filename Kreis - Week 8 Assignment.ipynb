{
 "cells": [
  {
   "cell_type": "code",
   "execution_count": 1,
   "metadata": {
    "collapsed": false
   },
   "outputs": [],
   "source": [
    "import nltk\n",
    "import re\n",
    "from nltk import word_tokenize\n",
    "import urllib2\n"
   ]
  },
  {
   "cell_type": "markdown",
   "metadata": {},
   "source": [
    "### 1.  The Strange Case of Dr. Jekyll and Mr. Hyde"
   ]
  },
  {
   "cell_type": "code",
   "execution_count": 2,
   "metadata": {
    "collapsed": false
   },
   "outputs": [],
   "source": [
    "url = \"http://www.gutenberg.org/files/43/43-0.txt\"\n",
    "\n",
    "#open and read the file\n",
    "response = urllib2.urlopen(url)\n",
    "raw = response.read().decode('utf8')"
   ]
  },
  {
   "cell_type": "code",
   "execution_count": 3,
   "metadata": {
    "collapsed": false
   },
   "outputs": [
    {
     "data": {
      "text/plain": [
       "788"
      ]
     },
     "execution_count": 3,
     "metadata": {},
     "output_type": "execute_result"
    }
   ],
   "source": [
    "#find the beginning\n",
    "raw.find(\"STORY OF THE DOOR\")"
   ]
  },
  {
   "cell_type": "code",
   "execution_count": 4,
   "metadata": {
    "collapsed": false
   },
   "outputs": [
    {
     "data": {
      "text/plain": [
       "141823"
      ]
     },
     "execution_count": 4,
     "metadata": {},
     "output_type": "execute_result"
    }
   ],
   "source": [
    "#find the end\n",
    "raw.find(\"End of the Project Gutenberg EBook\")"
   ]
  },
  {
   "cell_type": "code",
   "execution_count": 5,
   "metadata": {
    "collapsed": true
   },
   "outputs": [],
   "source": [
    "#cut out non book portions\n",
    "raw = raw[788:141823]"
   ]
  },
  {
   "cell_type": "code",
   "execution_count": 6,
   "metadata": {
    "collapsed": false
   },
   "outputs": [
    {
     "data": {
      "text/plain": [
       "0"
      ]
     },
     "execution_count": 6,
     "metadata": {},
     "output_type": "execute_result"
    }
   ],
   "source": [
    "raw.find(\"STORY OF THE DOOR\")"
   ]
  },
  {
   "cell_type": "code",
   "execution_count": 7,
   "metadata": {
    "collapsed": true
   },
   "outputs": [],
   "source": [
    "#convert to tokens\n",
    "tokens = word_tokenize(raw)"
   ]
  },
  {
   "cell_type": "markdown",
   "metadata": {},
   "source": [
    "### 2. How many total unique words are in the corpus?  "
   ]
  },
  {
   "cell_type": "code",
   "execution_count": 8,
   "metadata": {
    "collapsed": true
   },
   "outputs": [],
   "source": [
    "#normalize to lowercase text\n",
    "words = [w.lower() for w in tokens]"
   ]
  },
  {
   "cell_type": "code",
   "execution_count": 9,
   "metadata": {
    "collapsed": false
   },
   "outputs": [
    {
     "data": {
      "text/plain": [
       "24667"
      ]
     },
     "execution_count": 9,
     "metadata": {},
     "output_type": "execute_result"
    }
   ],
   "source": [
    "#remove non-alphanumeric characters, this will include the removal of contractions and names\n",
    "alpha = [w for w in words if w.isalpha()]\n",
    "len(alpha)"
   ]
  },
  {
   "cell_type": "code",
   "execution_count": 10,
   "metadata": {
    "collapsed": true
   },
   "outputs": [],
   "source": [
    "#use a stemmer to find the root words\n",
    "porter = nltk.PorterStemmer()\n",
    "stem = [porter.stem(t) for t in alpha]"
   ]
  },
  {
   "cell_type": "code",
   "execution_count": 11,
   "metadata": {
    "collapsed": false
   },
   "outputs": [
    {
     "name": "stdout",
     "output_type": "stream",
     "text": [
      "there are 2982 unique words in the corpus\n"
     ]
    }
   ],
   "source": [
    "\n",
    "#use set to find unique words\n",
    "uni = len(set(stem))\n",
    "print \"there are %d unique words in the corpus\" %uni"
   ]
  },
  {
   "cell_type": "markdown",
   "metadata": {},
   "source": [
    "### 3.  Taking the most common words, how many unique words represent half of the total words in the corpus?"
   ]
  },
  {
   "cell_type": "code",
   "execution_count": 12,
   "metadata": {
    "collapsed": false
   },
   "outputs": [],
   "source": [
    "fd = nltk.FreqDist(stem)\n",
    "\n"
   ]
  },
  {
   "cell_type": "code",
   "execution_count": 13,
   "metadata": {
    "collapsed": false
   },
   "outputs": [
    {
     "data": {
      "text/plain": [
       "[1602, 946, 935, 639, 626, 563, 467, 422, 368, 362]"
      ]
     },
     "execution_count": 13,
     "metadata": {},
     "output_type": "execute_result"
    }
   ],
   "source": [
    "import operator\n",
    "\n",
    "fd_val = sorted(fd.values(), reverse=True)\n",
    "fd_val[:10]"
   ]
  },
  {
   "cell_type": "code",
   "execution_count": 14,
   "metadata": {
    "collapsed": false,
    "scrolled": true
   },
   "outputs": [
    {
     "name": "stdout",
     "output_type": "stream",
     "text": [
      "53 words make up half of the total words in the corpus\n"
     ]
    }
   ],
   "source": [
    "count=0\n",
    "total=0\n",
    "for freq in fd_val:\n",
    "    if total <= len(alpha)/2:\n",
    "        total += freq\n",
    "        count += 1\n",
    "print \"%d words make up half of the total words in the corpus\" %count\n",
    "            \n",
    "        "
   ]
  },
  {
   "cell_type": "markdown",
   "metadata": {},
   "source": [
    "### 4.  Identify the 200 highest frequency words in this corpus."
   ]
  },
  {
   "cell_type": "code",
   "execution_count": 15,
   "metadata": {
    "collapsed": true
   },
   "outputs": [],
   "source": [
    "#use operator to sort based on the value pair (itemgetter 1 versus 2)\n",
    "sorted_fd = sorted(fd.items(), key=operator.itemgetter(1), reverse=True)"
   ]
  },
  {
   "cell_type": "code",
   "execution_count": 16,
   "metadata": {
    "collapsed": false
   },
   "outputs": [
    {
     "name": "stdout",
     "output_type": "stream",
     "text": [
      "[(u'the', 1602), (u'and', 946), (u'of', 935), (u'to', 639), (u'a', 626), (u'i', 563), (u'wa', 467), (u'in', 422), (u'he', 368), (u'that', 362), (u'it', 359), (u'my', 300), (u'hi', 285), (u'with', 252), (u'had', 244), (u'you', 213), (u'as', 192), (u'but', 177), (u'for', 170), (u'at', 169), (u'on', 149), (u'be', 136), (u'thi', 134), (u'not', 133), (u'said', 130), (u'is', 130), (u'have', 126), (u'utterson', 125), (u'me', 122), (u'by', 114), (u'him', 112), (u'from', 106), (u'which', 102), (u'hyde', 91), (u'were', 81), (u'all', 81), (u'when', 81), (u'an', 80), (u'so', 77), (u'more', 77), (u'man', 76), (u'one', 76), (u'no', 75), (u'there', 75), (u'out', 75), (u'jekyl', 73), (u'if', 71), (u'been', 68), (u'hand', 68), (u'lawyer', 68), (u'will', 63), (u'like', 63), (u'what', 62), (u'upon', 60), (u'now', 59), (u'pool', 59), (u'into', 58), (u'veri', 57), (u'sir', 56), (u'or', 55), (u'would', 54), (u'then', 53), (u'your', 53), (u'door', 53), (u'look', 53), (u'even', 51), (u'these', 51), (u'see', 50), (u'could', 50), (u'some', 49), (u'up', 48), (u'they', 47), (u'life', 46), (u'can', 46), (u'know', 46), (u'do', 44), (u'befor', 43), (u'face', 43), (u'thought', 43), (u'other', 43), (u'we', 42), (u'onc', 42), (u'hous', 42), (u'seem', 41), (u'must', 40), (u'time', 40), (u'than', 40), (u'last', 40), (u'come', 38), (u'two', 38), (u'about', 38), (u'own', 38), (u'still', 37), (u'good', 37), (u'never', 36), (u'are', 36), (u'came', 35), (u'eye', 35), (u'onli', 34), (u'return', 34), (u'great', 34), (u'day', 34), (u'well', 34), (u'think', 33), (u'again', 33), (u'ask', 33), (u'yet', 32), (u'down', 32), (u'way', 32), (u'where', 32), (u'back', 32), (u'friend', 31), (u'long', 31), (u'thing', 30), (u'name', 30), (u'am', 30), (u'began', 30), (u'might', 29), (u'someth', 29), (u'moment', 29), (u'shall', 29), (u'their', 29), (u'should', 29), (u'ha', 29), (u'say', 28), (u'henri', 27), (u'here', 27), (u'much', 27), (u'night', 27), (u'old', 27), (u'cabinet', 27), (u'who', 27), (u'room', 26), (u'them', 26), (u'mind', 26), (u'make', 26), (u'open', 26), (u'myself', 26), (u'light', 26), (u'doctor', 25), (u'lanyon', 25), (u'set', 25), (u'himself', 25), (u'edward', 24), (u'side', 24), (u'ani', 24), (u'saw', 24), (u'fear', 24), (u'street', 23), (u'after', 23), (u'too', 23), (u'hour', 23), (u'go', 23), (u'inde', 23), (u'made', 23), (u'under', 22), (u'did', 22), (u'repli', 22), (u'may', 22), (u'turn', 22), (u'first', 22), (u'through', 22), (u'natur', 22), (u'chang', 22), (u'everi', 21), (u'most', 21), (u'bodi', 21), (u'cri', 21), (u'end', 20), (u'how', 20), (u'sat', 20), (u'take', 20), (u'littl', 20), (u'strang', 20), (u'anoth', 20), (u'found', 20), (u'part', 20), (u'point', 20), (u'lay', 19), (u'god', 19), (u'such', 19), (u'noth', 19), (u'enough', 19), (u'fire', 19), (u'next', 19), (u'off', 19), (u'voic', 18), (u'murder', 18), (u'place', 18), (u'without', 18), (u'she', 18), (u'second', 17), (u'word', 17), (u'seen', 17), (u'though', 17), (u'busi', 17), (u'away', 17), (u'evil', 17), (u'left', 17), (u'same', 17)]\n"
     ]
    }
   ],
   "source": [
    "#the most common words are the usual suspects\n",
    "print sorted_fd[:200]"
   ]
  },
  {
   "cell_type": "markdown",
   "metadata": {},
   "source": [
    "### 5.  Create a graph that shows the relative frequency of these 200 words"
   ]
  },
  {
   "cell_type": "code",
   "execution_count": 17,
   "metadata": {
    "collapsed": false
   },
   "outputs": [
    {
     "data": {
      "image/png": "[encoded data removed]",
      "text/plain": [
       "<matplotlib.figure.Figure at 0xd6e7be0>"
      ]
     },
     "metadata": {},
     "output_type": "display_data"
    }
   ],
   "source": [
    "import matplotlib.pyplot as plt\n",
    "% matplotlib inline\n",
    "fig = plt.figure(figsize=(20, 8))\n",
    "fd.plot(200, cumulative=False)"
   ]
  },
  {
   "cell_type": "markdown",
   "metadata": {},
   "source": [
    "### 5.  Does the observed relative frequency of these words follow Zipf’s law? Explain."
   ]
  },
  {
   "cell_type": "code",
   "execution_count": 18,
   "metadata": {
    "collapsed": false
   },
   "outputs": [],
   "source": [
    "import pandas as pd\n",
    "import numpy as np\n",
    "\n",
    "df = pd.DataFrame()"
   ]
  },
  {
   "cell_type": "code",
   "execution_count": 19,
   "metadata": {
    "collapsed": false
   },
   "outputs": [],
   "source": [
    "df['freq'] = fd_val"
   ]
  },
  {
   "cell_type": "code",
   "execution_count": 20,
   "metadata": {
    "collapsed": false
   },
   "outputs": [],
   "source": [
    "df = df[0:200]"
   ]
  },
  {
   "cell_type": "code",
   "execution_count": 21,
   "metadata": {
    "collapsed": false
   },
   "outputs": [],
   "source": [
    "df['rank'] = df['freq'].rank(ascending=False)"
   ]
  },
  {
   "cell_type": "code",
   "execution_count": 22,
   "metadata": {
    "collapsed": false
   },
   "outputs": [
    {
     "data": {
      "text/html": [
       "<div>\n",
       "<table border=\"1\" class=\"dataframe\">\n",
       "  <thead>\n",
       "    <tr style=\"text-align: right;\">\n",
       "      <th></th>\n",
       "      <th>freq</th>\n",
       "      <th>rank</th>\n",
       "      <th>prop</th>\n",
       "    </tr>\n",
       "  </thead>\n",
       "  <tbody>\n",
       "    <tr>\n",
       "      <th>0</th>\n",
       "      <td>1602</td>\n",
       "      <td>1</td>\n",
       "      <td>1602.000000</td>\n",
       "    </tr>\n",
       "    <tr>\n",
       "      <th>1</th>\n",
       "      <td>946</td>\n",
       "      <td>2</td>\n",
       "      <td>473.000000</td>\n",
       "    </tr>\n",
       "    <tr>\n",
       "      <th>2</th>\n",
       "      <td>935</td>\n",
       "      <td>3</td>\n",
       "      <td>311.666667</td>\n",
       "    </tr>\n",
       "    <tr>\n",
       "      <th>3</th>\n",
       "      <td>639</td>\n",
       "      <td>4</td>\n",
       "      <td>159.750000</td>\n",
       "    </tr>\n",
       "    <tr>\n",
       "      <th>4</th>\n",
       "      <td>626</td>\n",
       "      <td>5</td>\n",
       "      <td>125.200000</td>\n",
       "    </tr>\n",
       "  </tbody>\n",
       "</table>\n",
       "</div>"
      ],
      "text/plain": [
       "   freq  rank         prop\n",
       "0  1602     1  1602.000000\n",
       "1   946     2   473.000000\n",
       "2   935     3   311.666667\n",
       "3   639     4   159.750000\n",
       "4   626     5   125.200000"
      ]
     },
     "execution_count": 22,
     "metadata": {},
     "output_type": "execute_result"
    }
   ],
   "source": [
    "df['prop'] = df['freq'] / df['rank']\n",
    "df.head()"
   ]
  },
  {
   "cell_type": "code",
   "execution_count": 23,
   "metadata": {
    "collapsed": true
   },
   "outputs": [],
   "source": [
    "new= df[['freq', 'prop']]"
   ]
  },
  {
   "cell_type": "code",
   "execution_count": 24,
   "metadata": {
    "collapsed": false
   },
   "outputs": [
    {
     "data": {
      "text/plain": [
       "<matplotlib.axes._subplots.AxesSubplot at 0x11742be0>"
      ]
     },
     "execution_count": 24,
     "metadata": {},
     "output_type": "execute_result"
    },
    {
     "data": {
      "image/png": "[encoded data removed]",
      "text/plain": [
       "<matplotlib.figure.Figure at 0xea171d0>"
      ]
     },
     "metadata": {},
     "output_type": "display_data"
    }
   ],
   "source": [
    "new.plot()\n"
   ]
  },
  {
   "cell_type": "markdown",
   "metadata": {},
   "source": [
    "##### They do seem to be related, yes"
   ]
  },
  {
   "cell_type": "markdown",
   "metadata": {},
   "source": [
    "### 7.  In what ways do you think the frequency of the words in this corpus differ from “all words in all corpora.”"
   ]
  },
  {
   "cell_type": "markdown",
   "metadata": {},
   "source": [
    "##### I would imagine that the words would be somewhat similar. There are probably more violent words and old-timey language than many other texts, but the general language should be similar "
   ]
  },
  {
   "cell_type": "code",
   "execution_count": null,
   "metadata": {
    "collapsed": true
   },
   "outputs": [],
   "source": []
  }
 ],
 "metadata": {
  "anaconda-cloud": {},
  "kernelspec": {
   "display_name": "Python [conda root]",
   "language": "python",
   "name": "conda-root-py"
  },
  "language_info": {
   "codemirror_mode": {
    "name": "ipython",
    "version": 2
   },
   "file_extension": ".py",
   "mimetype": "text/x-python",
   "name": "python",
   "nbconvert_exporter": "python",
   "pygments_lexer": "ipython2",
   "version": "2.7.12"
  }
 },
 "nbformat": 4,
 "nbformat_minor": 0
}
